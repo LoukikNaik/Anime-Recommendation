{
  "nbformat": 4,
  "nbformat_minor": 0,
  "metadata": {
    "colab": {
      "name": "Anime Recommendation system.ipynb",
      "provenance": []
    },
    "kernelspec": {
      "name": "python3",
      "display_name": "Python 3"
    },
    "language_info": {
      "name": "python"
    }
  },
  "cells": [
    {
      "cell_type": "code",
      "execution_count": 1,
      "metadata": {
        "id": "PTlfpbim9ktN"
      },
      "outputs": [],
      "source": [
        "import pandas as pd\n",
        "import numpy as np\n",
        "from sklearn.feature_extraction.text import CountVectorizer\n",
        "from sklearn.metrics.pairwise import cosine_similarity"
      ]
    },
    {
      "cell_type": "code",
      "source": [
        "user_likes=\"kiminonawa\""
      ],
      "metadata": {
        "id": "IDIKNSmxn991"
      },
      "execution_count": 154,
      "outputs": []
    },
    {
      "cell_type": "code",
      "source": [
        "anime_data=pd.read_csv('anime.csv')"
      ],
      "metadata": {
        "id": "AO6lEwwVAq4r"
      },
      "execution_count": 2,
      "outputs": []
    },
    {
      "cell_type": "code",
      "source": [
        "anime_data.head()"
      ],
      "metadata": {
        "colab": {
          "base_uri": "https://localhost:8080/",
          "height": 704
        },
        "id": "KdhrMS--BKWu",
        "outputId": "6e604cf1-6dfb-4c63-cebd-cda98bc3e92a"
      },
      "execution_count": 139,
      "outputs": [
        {
          "output_type": "execute_result",
          "data": {
            "text/html": [
              "\n",
              "  <div id=\"df-b3b167e4-5470-47e2-9593-eb58dc02dfcb\">\n",
              "    <div class=\"colab-df-container\">\n",
              "      <div>\n",
              "<style scoped>\n",
              "    .dataframe tbody tr th:only-of-type {\n",
              "        vertical-align: middle;\n",
              "    }\n",
              "\n",
              "    .dataframe tbody tr th {\n",
              "        vertical-align: top;\n",
              "    }\n",
              "\n",
              "    .dataframe thead th {\n",
              "        text-align: right;\n",
              "    }\n",
              "</style>\n",
              "<table border=\"1\" class=\"dataframe\">\n",
              "  <thead>\n",
              "    <tr style=\"text-align: right;\">\n",
              "      <th></th>\n",
              "      <th>MAL_ID</th>\n",
              "      <th>Name</th>\n",
              "      <th>Score</th>\n",
              "      <th>Genres</th>\n",
              "      <th>English name</th>\n",
              "      <th>Japanese name</th>\n",
              "      <th>Type</th>\n",
              "      <th>Episodes</th>\n",
              "      <th>Aired</th>\n",
              "      <th>Premiered</th>\n",
              "      <th>Producers</th>\n",
              "      <th>Licensors</th>\n",
              "      <th>Studios</th>\n",
              "      <th>Source</th>\n",
              "      <th>Duration</th>\n",
              "      <th>Rating</th>\n",
              "      <th>Ranked</th>\n",
              "      <th>Popularity</th>\n",
              "      <th>Members</th>\n",
              "      <th>Favorites</th>\n",
              "      <th>Watching</th>\n",
              "      <th>Completed</th>\n",
              "      <th>On-Hold</th>\n",
              "      <th>Dropped</th>\n",
              "      <th>Plan to Watch</th>\n",
              "      <th>Score-10</th>\n",
              "      <th>Score-9</th>\n",
              "      <th>Score-8</th>\n",
              "      <th>Score-7</th>\n",
              "      <th>Score-6</th>\n",
              "      <th>Score-5</th>\n",
              "      <th>Score-4</th>\n",
              "      <th>Score-3</th>\n",
              "      <th>Score-2</th>\n",
              "      <th>Score-1</th>\n",
              "      <th>combined_features</th>\n",
              "    </tr>\n",
              "  </thead>\n",
              "  <tbody>\n",
              "    <tr>\n",
              "      <th>0</th>\n",
              "      <td>1</td>\n",
              "      <td>Cowboy Bebop</td>\n",
              "      <td>8.78</td>\n",
              "      <td>Action, Adventure, Comedy, Drama, Sci-Fi, Space</td>\n",
              "      <td>Cowboy Bebop</td>\n",
              "      <td>カウボーイビバップ</td>\n",
              "      <td>TV</td>\n",
              "      <td>26</td>\n",
              "      <td>Apr 3, 1998 to Apr 24, 1999</td>\n",
              "      <td>Spring 1998</td>\n",
              "      <td>Bandai Visual</td>\n",
              "      <td>Funimation, Bandai Entertainment</td>\n",
              "      <td>Sunrise</td>\n",
              "      <td>Original</td>\n",
              "      <td>24 min. per ep.</td>\n",
              "      <td>R - 17+ (violence &amp; profanity)</td>\n",
              "      <td>28.0</td>\n",
              "      <td>39</td>\n",
              "      <td>1251960</td>\n",
              "      <td>61971</td>\n",
              "      <td>105808</td>\n",
              "      <td>718161</td>\n",
              "      <td>71513</td>\n",
              "      <td>26678</td>\n",
              "      <td>329800</td>\n",
              "      <td>229170.0</td>\n",
              "      <td>182126.0</td>\n",
              "      <td>131625.0</td>\n",
              "      <td>62330.0</td>\n",
              "      <td>20688.0</td>\n",
              "      <td>8904.0</td>\n",
              "      <td>3184.0</td>\n",
              "      <td>1357.0</td>\n",
              "      <td>741.0</td>\n",
              "      <td>1580.0</td>\n",
              "      <td>Action  Adventure  Comedy  Drama  Sci-Fi  Spac...</td>\n",
              "    </tr>\n",
              "    <tr>\n",
              "      <th>1</th>\n",
              "      <td>5</td>\n",
              "      <td>Cowboy Bebop: Tengoku no Tobira</td>\n",
              "      <td>8.39</td>\n",
              "      <td>Action, Drama, Mystery, Sci-Fi, Space</td>\n",
              "      <td>Cowboy Bebop:The Movie</td>\n",
              "      <td>カウボーイビバップ 天国の扉</td>\n",
              "      <td>Movie</td>\n",
              "      <td>1</td>\n",
              "      <td>Sep 1, 2001</td>\n",
              "      <td>Unknown</td>\n",
              "      <td>Sunrise, Bandai Visual</td>\n",
              "      <td>Sony Pictures Entertainment</td>\n",
              "      <td>Bones</td>\n",
              "      <td>Original</td>\n",
              "      <td>1 hr. 55 min.</td>\n",
              "      <td>R - 17+ (violence &amp; profanity)</td>\n",
              "      <td>159.0</td>\n",
              "      <td>518</td>\n",
              "      <td>273145</td>\n",
              "      <td>1174</td>\n",
              "      <td>4143</td>\n",
              "      <td>208333</td>\n",
              "      <td>1935</td>\n",
              "      <td>770</td>\n",
              "      <td>57964</td>\n",
              "      <td>30043.0</td>\n",
              "      <td>49201.0</td>\n",
              "      <td>49505.0</td>\n",
              "      <td>22632.0</td>\n",
              "      <td>5805.0</td>\n",
              "      <td>1877.0</td>\n",
              "      <td>577.0</td>\n",
              "      <td>221.0</td>\n",
              "      <td>109.0</td>\n",
              "      <td>379.0</td>\n",
              "      <td>Action  Drama  Mystery  Sci-Fi  Space Movie Or...</td>\n",
              "    </tr>\n",
              "    <tr>\n",
              "      <th>2</th>\n",
              "      <td>6</td>\n",
              "      <td>Trigun</td>\n",
              "      <td>8.24</td>\n",
              "      <td>Action, Sci-Fi, Adventure, Comedy, Drama, Shounen</td>\n",
              "      <td>Trigun</td>\n",
              "      <td>トライガン</td>\n",
              "      <td>TV</td>\n",
              "      <td>26</td>\n",
              "      <td>Apr 1, 1998 to Sep 30, 1998</td>\n",
              "      <td>Spring 1998</td>\n",
              "      <td>Victor Entertainment</td>\n",
              "      <td>Funimation, Geneon Entertainment USA</td>\n",
              "      <td>Madhouse</td>\n",
              "      <td>Manga</td>\n",
              "      <td>24 min. per ep.</td>\n",
              "      <td>PG-13 - Teens 13 or older</td>\n",
              "      <td>266.0</td>\n",
              "      <td>201</td>\n",
              "      <td>558913</td>\n",
              "      <td>12944</td>\n",
              "      <td>29113</td>\n",
              "      <td>343492</td>\n",
              "      <td>25465</td>\n",
              "      <td>13925</td>\n",
              "      <td>146918</td>\n",
              "      <td>50229.0</td>\n",
              "      <td>75651.0</td>\n",
              "      <td>86142.0</td>\n",
              "      <td>49432.0</td>\n",
              "      <td>15376.0</td>\n",
              "      <td>5838.0</td>\n",
              "      <td>1965.0</td>\n",
              "      <td>664.0</td>\n",
              "      <td>316.0</td>\n",
              "      <td>533.0</td>\n",
              "      <td>Action  Sci-Fi  Adventure  Comedy  Drama  Shou...</td>\n",
              "    </tr>\n",
              "    <tr>\n",
              "      <th>3</th>\n",
              "      <td>7</td>\n",
              "      <td>Witch Hunter Robin</td>\n",
              "      <td>7.27</td>\n",
              "      <td>Action, Mystery, Police, Supernatural, Drama, ...</td>\n",
              "      <td>Witch Hunter Robin</td>\n",
              "      <td>Witch Hunter ROBIN (ウイッチハンターロビン)</td>\n",
              "      <td>TV</td>\n",
              "      <td>26</td>\n",
              "      <td>Jul 2, 2002 to Dec 24, 2002</td>\n",
              "      <td>Summer 2002</td>\n",
              "      <td>TV Tokyo, Bandai Visual, Dentsu, Victor Entert...</td>\n",
              "      <td>Funimation, Bandai Entertainment</td>\n",
              "      <td>Sunrise</td>\n",
              "      <td>Original</td>\n",
              "      <td>25 min. per ep.</td>\n",
              "      <td>PG-13 - Teens 13 or older</td>\n",
              "      <td>2481.0</td>\n",
              "      <td>1467</td>\n",
              "      <td>94683</td>\n",
              "      <td>587</td>\n",
              "      <td>4300</td>\n",
              "      <td>46165</td>\n",
              "      <td>5121</td>\n",
              "      <td>5378</td>\n",
              "      <td>33719</td>\n",
              "      <td>2182.0</td>\n",
              "      <td>4806.0</td>\n",
              "      <td>10128.0</td>\n",
              "      <td>11618.0</td>\n",
              "      <td>5709.0</td>\n",
              "      <td>2920.0</td>\n",
              "      <td>1083.0</td>\n",
              "      <td>353.0</td>\n",
              "      <td>164.0</td>\n",
              "      <td>131.0</td>\n",
              "      <td>Action  Mystery  Police  Supernatural  Drama  ...</td>\n",
              "    </tr>\n",
              "    <tr>\n",
              "      <th>4</th>\n",
              "      <td>8</td>\n",
              "      <td>Bouken Ou Beet</td>\n",
              "      <td>6.98</td>\n",
              "      <td>Adventure, Fantasy, Shounen, Supernatural</td>\n",
              "      <td>Beet the Vandel Buster</td>\n",
              "      <td>冒険王ビィト</td>\n",
              "      <td>TV</td>\n",
              "      <td>52</td>\n",
              "      <td>Sep 30, 2004 to Sep 29, 2005</td>\n",
              "      <td>Fall 2004</td>\n",
              "      <td>TV Tokyo, Dentsu</td>\n",
              "      <td>Unknown</td>\n",
              "      <td>Toei Animation</td>\n",
              "      <td>Manga</td>\n",
              "      <td>23 min. per ep.</td>\n",
              "      <td>PG - Children</td>\n",
              "      <td>3710.0</td>\n",
              "      <td>4369</td>\n",
              "      <td>13224</td>\n",
              "      <td>18</td>\n",
              "      <td>642</td>\n",
              "      <td>7314</td>\n",
              "      <td>766</td>\n",
              "      <td>1108</td>\n",
              "      <td>3394</td>\n",
              "      <td>312.0</td>\n",
              "      <td>529.0</td>\n",
              "      <td>1242.0</td>\n",
              "      <td>1713.0</td>\n",
              "      <td>1068.0</td>\n",
              "      <td>634.0</td>\n",
              "      <td>265.0</td>\n",
              "      <td>83.0</td>\n",
              "      <td>50.0</td>\n",
              "      <td>27.0</td>\n",
              "      <td>Adventure  Fantasy  Shounen  Supernatural TV M...</td>\n",
              "    </tr>\n",
              "  </tbody>\n",
              "</table>\n",
              "</div>\n",
              "      <button class=\"colab-df-convert\" onclick=\"convertToInteractive('df-b3b167e4-5470-47e2-9593-eb58dc02dfcb')\"\n",
              "              title=\"Convert this dataframe to an interactive table.\"\n",
              "              style=\"display:none;\">\n",
              "        \n",
              "  <svg xmlns=\"http://www.w3.org/2000/svg\" height=\"24px\"viewBox=\"0 0 24 24\"\n",
              "       width=\"24px\">\n",
              "    <path d=\"M0 0h24v24H0V0z\" fill=\"none\"/>\n",
              "    <path d=\"M18.56 5.44l.94 2.06.94-2.06 2.06-.94-2.06-.94-.94-2.06-.94 2.06-2.06.94zm-11 1L8.5 8.5l.94-2.06 2.06-.94-2.06-.94L8.5 2.5l-.94 2.06-2.06.94zm10 10l.94 2.06.94-2.06 2.06-.94-2.06-.94-.94-2.06-.94 2.06-2.06.94z\"/><path d=\"M17.41 7.96l-1.37-1.37c-.4-.4-.92-.59-1.43-.59-.52 0-1.04.2-1.43.59L10.3 9.45l-7.72 7.72c-.78.78-.78 2.05 0 2.83L4 21.41c.39.39.9.59 1.41.59.51 0 1.02-.2 1.41-.59l7.78-7.78 2.81-2.81c.8-.78.8-2.07 0-2.86zM5.41 20L4 18.59l7.72-7.72 1.47 1.35L5.41 20z\"/>\n",
              "  </svg>\n",
              "      </button>\n",
              "      \n",
              "  <style>\n",
              "    .colab-df-container {\n",
              "      display:flex;\n",
              "      flex-wrap:wrap;\n",
              "      gap: 12px;\n",
              "    }\n",
              "\n",
              "    .colab-df-convert {\n",
              "      background-color: #E8F0FE;\n",
              "      border: none;\n",
              "      border-radius: 50%;\n",
              "      cursor: pointer;\n",
              "      display: none;\n",
              "      fill: #1967D2;\n",
              "      height: 32px;\n",
              "      padding: 0 0 0 0;\n",
              "      width: 32px;\n",
              "    }\n",
              "\n",
              "    .colab-df-convert:hover {\n",
              "      background-color: #E2EBFA;\n",
              "      box-shadow: 0px 1px 2px rgba(60, 64, 67, 0.3), 0px 1px 3px 1px rgba(60, 64, 67, 0.15);\n",
              "      fill: #174EA6;\n",
              "    }\n",
              "\n",
              "    [theme=dark] .colab-df-convert {\n",
              "      background-color: #3B4455;\n",
              "      fill: #D2E3FC;\n",
              "    }\n",
              "\n",
              "    [theme=dark] .colab-df-convert:hover {\n",
              "      background-color: #434B5C;\n",
              "      box-shadow: 0px 1px 3px 1px rgba(0, 0, 0, 0.15);\n",
              "      filter: drop-shadow(0px 1px 2px rgba(0, 0, 0, 0.3));\n",
              "      fill: #FFFFFF;\n",
              "    }\n",
              "  </style>\n",
              "\n",
              "      <script>\n",
              "        const buttonEl =\n",
              "          document.querySelector('#df-b3b167e4-5470-47e2-9593-eb58dc02dfcb button.colab-df-convert');\n",
              "        buttonEl.style.display =\n",
              "          google.colab.kernel.accessAllowed ? 'block' : 'none';\n",
              "\n",
              "        async function convertToInteractive(key) {\n",
              "          const element = document.querySelector('#df-b3b167e4-5470-47e2-9593-eb58dc02dfcb');\n",
              "          const dataTable =\n",
              "            await google.colab.kernel.invokeFunction('convertToInteractive',\n",
              "                                                     [key], {});\n",
              "          if (!dataTable) return;\n",
              "\n",
              "          const docLinkHtml = 'Like what you see? Visit the ' +\n",
              "            '<a target=\"_blank\" href=https://colab.research.google.com/notebooks/data_table.ipynb>data table notebook</a>'\n",
              "            + ' to learn more about interactive tables.';\n",
              "          element.innerHTML = '';\n",
              "          dataTable['output_type'] = 'display_data';\n",
              "          await google.colab.output.renderOutput(dataTable, element);\n",
              "          const docLink = document.createElement('div');\n",
              "          docLink.innerHTML = docLinkHtml;\n",
              "          element.appendChild(docLink);\n",
              "        }\n",
              "      </script>\n",
              "    </div>\n",
              "  </div>\n",
              "  "
            ],
            "text/plain": [
              "   MAL_ID  ...                                  combined_features\n",
              "0       1  ...  Action  Adventure  Comedy  Drama  Sci-Fi  Spac...\n",
              "1       5  ...  Action  Drama  Mystery  Sci-Fi  Space Movie Or...\n",
              "2       6  ...  Action  Sci-Fi  Adventure  Comedy  Drama  Shou...\n",
              "3       7  ...  Action  Mystery  Police  Supernatural  Drama  ...\n",
              "4       8  ...  Adventure  Fantasy  Shounen  Supernatural TV M...\n",
              "\n",
              "[5 rows x 36 columns]"
            ]
          },
          "metadata": {},
          "execution_count": 139
        }
      ]
    },
    {
      "cell_type": "code",
      "source": [
        "anime_data.columns"
      ],
      "metadata": {
        "colab": {
          "base_uri": "https://localhost:8080/"
        },
        "id": "HYhtIYZWpdQy",
        "outputId": "05905e3d-55f9-4fb0-d395-55b7e19345f2"
      },
      "execution_count": 164,
      "outputs": [
        {
          "output_type": "execute_result",
          "data": {
            "text/plain": [
              "Index(['MAL_ID', 'Name', 'Score', 'Genres', 'English name', 'Japanese name',\n",
              "       'Type', 'Episodes', 'Aired', 'Premiered', 'Producers', 'Licensors',\n",
              "       'Studios', 'Source', 'Duration', 'Rating', 'Ranked', 'Popularity',\n",
              "       'Members', 'Favorites', 'Watching', 'Completed', 'On-Hold', 'Dropped',\n",
              "       'Plan to Watch', 'Score-10', 'Score-9', 'Score-8', 'Score-7', 'Score-6',\n",
              "       'Score-5', 'Score-4', 'Score-3', 'Score-2', 'Score-1',\n",
              "       'combined_features'],\n",
              "      dtype='object')"
            ]
          },
          "metadata": {},
          "execution_count": 164
        }
      ]
    },
    {
      "cell_type": "code",
      "source": [
        "features=[\"Genres\",\"Type\",\"Source\",\"Producers\",\"Rating\"]"
      ],
      "metadata": {
        "id": "yatcd_5cBWDE"
      },
      "execution_count": 22,
      "outputs": []
    },
    {
      "cell_type": "code",
      "source": [
        "def combine_feature(row):\n",
        "  s=\"\"\n",
        "  for feature in features:\n",
        "    k=row[feature].split(\",\")\n",
        "    for i in k:\n",
        "      try:\n",
        "        s+=i\n",
        "      except:\n",
        "        print('Error:',row)\n",
        "      s+=\" \"\n",
        "  return s"
      ],
      "metadata": {
        "id": "LGr03k5yFPy2"
      },
      "execution_count": 27,
      "outputs": []
    },
    {
      "cell_type": "code",
      "source": [
        "anime_data['combined_features']=anime_data.apply(combine_feature,axis=1)"
      ],
      "metadata": {
        "id": "iynDJai5IUBh"
      },
      "execution_count": 28,
      "outputs": []
    },
    {
      "cell_type": "code",
      "source": [
        "anime_data['combined_features'].head()"
      ],
      "metadata": {
        "colab": {
          "base_uri": "https://localhost:8080/"
        },
        "id": "CWCbFncUIlaK",
        "outputId": "a278b5f5-3330-40b6-ca87-9b7e3ed1bbab"
      },
      "execution_count": 160,
      "outputs": [
        {
          "output_type": "execute_result",
          "data": {
            "text/plain": [
              "0    Action  Adventure  Comedy  Drama  Sci-Fi  Spac...\n",
              "1    Action  Drama  Mystery  Sci-Fi  Space Movie Or...\n",
              "2    Action  Sci-Fi  Adventure  Comedy  Drama  Shou...\n",
              "3    Action  Mystery  Police  Supernatural  Drama  ...\n",
              "4    Adventure  Fantasy  Shounen  Supernatural TV M...\n",
              "Name: combined_features, dtype: object"
            ]
          },
          "metadata": {},
          "execution_count": 160
        }
      ]
    },
    {
      "cell_type": "code",
      "source": [
        "cv=CountVectorizer()"
      ],
      "metadata": {
        "id": "TaZwxY0eIrRz"
      },
      "execution_count": 34,
      "outputs": []
    },
    {
      "cell_type": "code",
      "source": [
        "count_matrix=cv.fit_transform(anime_data['combined_features'])"
      ],
      "metadata": {
        "id": "Mkx9l3FaLRyu"
      },
      "execution_count": 54,
      "outputs": []
    },
    {
      "cell_type": "code",
      "source": [
        "print(count_matrix)"
      ],
      "metadata": {
        "colab": {
          "base_uri": "https://localhost:8080/"
        },
        "id": "Ziy5JYsOpMgJ",
        "outputId": "836b6599-bb5e-4fcd-f0a0-8052d029a36c"
      },
      "execution_count": 161,
      "outputs": [
        {
          "output_type": "stream",
          "name": "stdout",
          "text": [
            "  (0, 2)\t1\n",
            "  (0, 22)\t1\n",
            "  (0, 30)\t1\n",
            "  (0, 140)\t1\n",
            "  (0, 274)\t1\n",
            "  (0, 386)\t1\n",
            "  (0, 458)\t1\n",
            "  (0, 987)\t1\n",
            "  (0, 1066)\t1\n",
            "  (0, 1152)\t1\n",
            "  (0, 1239)\t1\n",
            "  (0, 1390)\t1\n",
            "  (0, 1422)\t1\n",
            "  (0, 1425)\t1\n",
            "  (1, 2)\t1\n",
            "  (1, 22)\t1\n",
            "  (1, 140)\t1\n",
            "  (1, 386)\t1\n",
            "  (1, 458)\t1\n",
            "  (1, 890)\t1\n",
            "  (1, 902)\t1\n",
            "  (1, 987)\t1\n",
            "  (1, 1066)\t1\n",
            "  (1, 1152)\t1\n",
            "  (1, 1239)\t1\n",
            "  :\t:\n",
            "  (17559, 1390)\t1\n",
            "  (17559, 1402)\t1\n",
            "  (17559, 1422)\t1\n",
            "  (17559, 1425)\t1\n",
            "  (17560, 1)\t2\n",
            "  (17560, 30)\t1\n",
            "  (17560, 274)\t1\n",
            "  (17560, 691)\t1\n",
            "  (17560, 783)\t1\n",
            "  (17560, 821)\t1\n",
            "  (17560, 966)\t1\n",
            "  (17560, 971)\t1\n",
            "  (17560, 984)\t1\n",
            "  (17560, 1020)\t1\n",
            "  (17560, 1213)\t1\n",
            "  (17560, 1318)\t1\n",
            "  (17560, 1390)\t1\n",
            "  (17561, 22)\t1\n",
            "  (17561, 108)\t1\n",
            "  (17561, 140)\t1\n",
            "  (17561, 451)\t1\n",
            "  (17561, 511)\t1\n",
            "  (17561, 908)\t1\n",
            "  (17561, 1390)\t1\n",
            "  (17561, 1402)\t1\n"
          ]
        }
      ]
    },
    {
      "cell_type": "code",
      "source": [
        "cosine_sim=cosine_similarity(count_matrix)"
      ],
      "metadata": {
        "id": "fvkFKNvVPh9n"
      },
      "execution_count": 58,
      "outputs": []
    },
    {
      "cell_type": "code",
      "source": [
        "cosine_sim"
      ],
      "metadata": {
        "colab": {
          "base_uri": "https://localhost:8080/"
        },
        "id": "czLtRJN8PlSx",
        "outputId": "10093651-b2a6-4ab0-a226-9c7d749e3d0f"
      },
      "execution_count": 59,
      "outputs": [
        {
          "output_type": "execute_result",
          "data": {
            "text/plain": [
              "array([[1.        , 0.78571429, 0.42919754, ..., 0.37062466, 0.20044593,\n",
              "        0.28347335],\n",
              "       [0.78571429, 1.        , 0.24525574, ..., 0.37062466, 0.        ,\n",
              "        0.18898224],\n",
              "       [0.42919754, 0.24525574, 1.        , ..., 0.06362848, 0.6882472 ,\n",
              "        0.16222142],\n",
              "       ...,\n",
              "       [0.37062466, 0.37062466, 0.06362848, ..., 1.        , 0.06933752,\n",
              "        0.19611614],\n",
              "       [0.20044593, 0.        , 0.6882472 , ..., 0.06933752, 1.        ,\n",
              "        0.08838835],\n",
              "       [0.28347335, 0.18898224, 0.16222142, ..., 0.19611614, 0.08838835,\n",
              "        1.        ]])"
            ]
          },
          "metadata": {},
          "execution_count": 59
        }
      ]
    },
    {
      "cell_type": "code",
      "source": [
        "def get_title_from_index(index):\n",
        "  title=anime_data[anime_data.index==index]['Name'].values[0]\n",
        "  return title\n",
        "\n",
        "def get_index_from_title(title):\n",
        "  title=title.replace(\" \",\"\")\n",
        "  title=title.lower()\n",
        "  i=0\n",
        "  for name in anime_data['Name']:\n",
        "    k=name.replace(\" \",\"\")\n",
        "    k=k.lower()\n",
        "    if title in k:\n",
        "      return i\n",
        "    i+=1"
      ],
      "metadata": {
        "id": "eH0mmn62Q3fc"
      },
      "execution_count": 140,
      "outputs": []
    },
    {
      "cell_type": "code",
      "source": [
        "l=get_index_from_title(user_likes)\n",
        "print(l)"
      ],
      "metadata": {
        "colab": {
          "base_uri": "https://localhost:8080/"
        },
        "id": "-gQ9diOCWQ9r",
        "outputId": "bedce64d-fce4-4db4-da88-dc9f3f27ebac"
      },
      "execution_count": 165,
      "outputs": [
        {
          "output_type": "stream",
          "name": "stdout",
          "text": [
            "11308\n"
          ]
        }
      ]
    },
    {
      "cell_type": "code",
      "source": [
        "l=get_title_from_index(15158)\n",
        "print(l)"
      ],
      "metadata": {
        "colab": {
          "base_uri": "https://localhost:8080/"
        },
        "id": "07WITKRAXHjF",
        "outputId": "283de3b7-3b25-4c22-87c8-eb59698e5089"
      },
      "execution_count": 142,
      "outputs": [
        {
          "output_type": "stream",
          "name": "stdout",
          "text": [
            "Tenki no Ko\n"
          ]
        }
      ]
    },
    {
      "cell_type": "code",
      "source": [
        "anime_index=get_index_from_title(user_likes)\n",
        "similar_anime=list(enumerate(cosine_sim[anime_index]))"
      ],
      "metadata": {
        "id": "fjUK_SKdYXD_"
      },
      "execution_count": 155,
      "outputs": []
    },
    {
      "cell_type": "code",
      "source": [
        "similar_anime[:10]"
      ],
      "metadata": {
        "colab": {
          "base_uri": "https://localhost:8080/"
        },
        "id": "OQtsP8vlk0Dx",
        "outputId": "b53517fa-c48e-41ff-a92a-fe8eeb9a8d88"
      },
      "execution_count": 156,
      "outputs": [
        {
          "output_type": "execute_result",
          "data": {
            "text/plain": [
              "[(0, 0.10286889997472795),\n",
              " (1, 0.15430334996209194),\n",
              " (2, 0.397359707119513),\n",
              " (3, 0.42339019740572564),\n",
              " (4, 0.10675210253672476),\n",
              " (5, 0.2765204519281134),\n",
              " (6, 0.401286176952564),\n",
              " (7, 0.37340802240746923),\n",
              " (8, 0.397359707119513),\n",
              " (9, 0.04536092116265145)]"
            ]
          },
          "metadata": {},
          "execution_count": 156
        }
      ]
    },
    {
      "cell_type": "code",
      "source": [
        "sorted_similar_anime=sorted(similar_anime,key=lambda x:x[1],reverse=True)"
      ],
      "metadata": {
        "id": "9z7AkXmmk4pV"
      },
      "execution_count": 157,
      "outputs": []
    },
    {
      "cell_type": "code",
      "source": [
        "sorted_similar_anime[:10]"
      ],
      "metadata": {
        "colab": {
          "base_uri": "https://localhost:8080/"
        },
        "id": "xAyyYTdAlWli",
        "outputId": "6bd3d0f5-6672-4a8d-ca3b-a3fccdbebc8e"
      },
      "execution_count": 158,
      "outputs": [
        {
          "output_type": "execute_result",
          "data": {
            "text/plain": [
              "[(11308, 1.0000000000000007),\n",
              " (15158, 0.6600983619844493),\n",
              " (15002, 0.6459751934999393),\n",
              " (7256, 0.6111111111111113),\n",
              " (10719, 0.6111111111111113),\n",
              " (11798, 0.6111111111111113),\n",
              " (12731, 0.6111111111111113),\n",
              " (14076, 0.6111111111111113),\n",
              " (14686, 0.6111111111111113),\n",
              " (1573, 0.5962847939999439)]"
            ]
          },
          "metadata": {},
          "execution_count": 158
        }
      ]
    },
    {
      "cell_type": "code",
      "source": [
        "i=0\n",
        "for anime in sorted_similar_anime:\n",
        "  print(get_title_from_index(anime[0]))\n",
        "  i+=1\n",
        "  if i==50:\n",
        "    break"
      ],
      "metadata": {
        "colab": {
          "base_uri": "https://localhost:8080/"
        },
        "id": "EhqzTCs6lZp7",
        "outputId": "d3d528ab-b8e6-45ff-bcd0-3ce6c61a28dc"
      },
      "execution_count": 159,
      "outputs": [
        {
          "output_type": "stream",
          "name": "stdout",
          "text": [
            "Kimi no Na wa.\n",
            "Tenki no Ko\n",
            "Kimi to, Nami ni Noretara\n",
            "Sakura no Ondo\n",
            "Kacchikenee!\n",
            "Padak Padak\n",
            "Hakubo\n",
            "Complex x Complex\n",
            "Natsu wo Yarinaosu\n",
            "Ajimu: Kaigan Monogatari\n",
            "Doujouji\n",
            "Sojunghan Nal-ui Kkum\n",
            "Uchiage Hanabi, Shita kara Miru ka? Yoko kara Miru ka?\n",
            "Sora no Aosa wo Shiru Hito yo\n",
            "Code Geass: Hangyaku no Lelouch - Kiseki no Birthday\n",
            "Junod\n",
            "Wasurenagumo\n",
            "Gaza: Changing the World\n",
            "Girls & Panzer Movie: 3-pun Chotto de Wakaru!! Girls & Panzer\n",
            "Girls & Panzer: Saishuushou Part 2\n",
            "Sono Toki, Kanojo wa.\n",
            "Girls & Panzer: Saishuushou Part 3\n",
            "Girls & Panzer: Saishuushou Part 4\n",
            "Girls & Panzer: Saishuushou Part 5\n",
            "Girls & Panzer: Saishuushou Part 6\n",
            "So-na-gi\n",
            "Shoujo☆Kageki Revue Starlight Movie\n",
            "Shoujo☆Kageki Revue Starlight: Rondo Rondo Rondo\n",
            "Shikioriori\n",
            "Kumo no Mukou, Yakusoku no Basho\n",
            "Wind: A Breath of Heart OVA\n",
            "Byousoku 5 Centimeter\n",
            "Clannad Movie\n",
            "True Tears\n",
            "Uchuu Senkan Yamato: Fukkatsu-hen\n",
            "Angel Beats!: Another Epilogue\n",
            "Ano Hi Mita Hana no Namae wo Bokutachi wa Mada Shiranai. Movie\n",
            "Kanamewo\n",
            "K: Seven Stories Movie 1 - R:B - Blaze\n",
            "Butlers: Chitose Momotose Monogatari\n",
            "Kimi dake ni Motetainda.\n",
            "Da Yu Hai Tang (Movie)\n",
            "Futakoi\n",
            "Futakoi Alternative\n",
            "Sentimental Journey\n",
            "Kakurenbo\n",
            "Princess Nine: Kisaragi Joshikou Yakyuubu\n",
            "Sirius no Densetsu\n",
            "Tokimeki Memorial: Forever With You\n",
            "Ashita e Attack!\n"
          ]
        }
      ]
    },
    {
      "cell_type": "code",
      "source": [
        ""
      ],
      "metadata": {
        "id": "qITpOMNGmAwE"
      },
      "execution_count": null,
      "outputs": []
    }
  ]
}